{
 "cells": [
  {
   "cell_type": "code",
   "execution_count": 1,
   "id": "0de5e20e",
   "metadata": {},
   "outputs": [
    {
     "name": "stderr",
     "output_type": "stream",
     "text": [
      "[nltk_data] Downloading package punkt to\n",
      "[nltk_data]     C:\\Users\\ACER\\AppData\\Roaming\\nltk_data...\n",
      "[nltk_data]   Package punkt is already up-to-date!\n"
     ]
    }
   ],
   "source": [
    "import pandas as pd\n",
    "import re\n",
    "import seaborn as sns\n",
    "import matplotlib.pyplot as plt\n",
    "from sklearn.model_selection import train_test_split\n",
    "from sklearn.feature_extraction.text import TfidfVectorizer\n",
    "from sklearn.metrics import accuracy_score, recall_score, precision_score, f1_score\n",
    "from sklearn.metrics import classification_report\n",
    "import nltk\n",
    "from sklearn.metrics import confusion_matrix, ConfusionMatrixDisplay\n",
    "nltk.download('punkt')\n",
    "\n",
    "from sklearn.feature_extraction.text import CountVectorizer, TfidfVectorizer, HashingVectorizer\n",
    "from sklearn.pipeline import Pipeline\n",
    "from wordcloud import WordCloud, STOPWORDS\n",
    "# from transformers import pipeline  # Dikomentari sementara\n",
    "import Sastrawi\n",
    "from Sastrawi.StopWordRemover.StopWordRemoverFactory import StopWordRemoverFactory, StopWordRemover, ArrayDictionary\n",
    "from Sastrawi.Stemmer.StemmerFactory import StemmerFactory\n",
    "from sklearn.naive_bayes import MultinomialNB"
   ]
  },
  {
   "cell_type": "code",
   "execution_count": 2,
   "id": "cbdea4c3",
   "metadata": {},
   "outputs": [],
   "source": [
    "# Dari data ini digunakan hanya review & ratting\n",
    "df = pd.read_csv(\"dataMieGacoan.csv\")"
   ]
  },
  {
   "cell_type": "code",
   "execution_count": 3,
   "id": "118d1a24",
   "metadata": {},
   "outputs": [
    {
     "data": {
      "text/html": [
       "<div>\n",
       "<style scoped>\n",
       "    .dataframe tbody tr th:only-of-type {\n",
       "        vertical-align: middle;\n",
       "    }\n",
       "\n",
       "    .dataframe tbody tr th {\n",
       "        vertical-align: top;\n",
       "    }\n",
       "\n",
       "    .dataframe thead th {\n",
       "        text-align: right;\n",
       "    }\n",
       "</style>\n",
       "<table border=\"1\" class=\"dataframe\">\n",
       "  <thead>\n",
       "    <tr style=\"text-align: right;\">\n",
       "      <th></th>\n",
       "      <th>Unnamed: 0</th>\n",
       "      <th>nama_tempat</th>\n",
       "      <th>user</th>\n",
       "      <th>review</th>\n",
       "      <th>rating</th>\n",
       "    </tr>\n",
       "  </thead>\n",
       "  <tbody>\n",
       "    <tr>\n",
       "      <th>0</th>\n",
       "      <td>0</td>\n",
       "      <td>Mie Gacoan Tangsel - Ciater Raya</td>\n",
       "      <td>lia faroh</td>\n",
       "      <td>Oke jadi gini, ini tuh Gacoannya luas banget y...</td>\n",
       "      <td>5</td>\n",
       "    </tr>\n",
       "    <tr>\n",
       "      <th>1</th>\n",
       "      <td>1</td>\n",
       "      <td>Mie Gacoan Tangsel - Ciater Raya</td>\n",
       "      <td>Dewi Novitasari</td>\n",
       "      <td>Pas pertama kali makan dine in, biasanya selal...</td>\n",
       "      <td>5</td>\n",
       "    </tr>\n",
       "    <tr>\n",
       "      <th>2</th>\n",
       "      <td>2</td>\n",
       "      <td>Mie Gacoan Tangsel - Ciater Raya</td>\n",
       "      <td>Rima Risa</td>\n",
       "      <td>Jauh2 kesini karna gacoan deket rumah kurengg,...</td>\n",
       "      <td>3</td>\n",
       "    </tr>\n",
       "    <tr>\n",
       "      <th>3</th>\n",
       "      <td>3</td>\n",
       "      <td>Mie Gacoan Tangsel - Ciater Raya</td>\n",
       "      <td>herman Q</td>\n",
       "      <td>Harganya beda-beda kemaren makan gacoan di dae...</td>\n",
       "      <td>4</td>\n",
       "    </tr>\n",
       "    <tr>\n",
       "      <th>4</th>\n",
       "      <td>4</td>\n",
       "      <td>Mie Gacoan Tangsel - Ciater Raya</td>\n",
       "      <td>Adelita Adella</td>\n",
       "      <td>Pertama kali cobain mie gacoan, beli jam 12 ma...</td>\n",
       "      <td>4</td>\n",
       "    </tr>\n",
       "    <tr>\n",
       "      <th>5</th>\n",
       "      <td>5</td>\n",
       "      <td>Mie Gacoan Tangsel - Ciater Raya</td>\n",
       "      <td>Sonia Sari</td>\n",
       "      <td>First time bgt makan di gacoan yang cabang Cia...</td>\n",
       "      <td>1</td>\n",
       "    </tr>\n",
       "    <tr>\n",
       "      <th>6</th>\n",
       "      <td>6</td>\n",
       "      <td>Mie Gacoan Tangsel - Ciater Raya</td>\n",
       "      <td>и</td>\n",
       "      <td>untuk makanannya oke sih standar gacoan, tp pe...</td>\n",
       "      <td>3</td>\n",
       "    </tr>\n",
       "  </tbody>\n",
       "</table>\n",
       "</div>"
      ],
      "text/plain": [
       "   Unnamed: 0                       nama_tempat             user  \\\n",
       "0           0  Mie Gacoan Tangsel - Ciater Raya        lia faroh   \n",
       "1           1  Mie Gacoan Tangsel - Ciater Raya  Dewi Novitasari   \n",
       "2           2  Mie Gacoan Tangsel - Ciater Raya        Rima Risa   \n",
       "3           3  Mie Gacoan Tangsel - Ciater Raya         herman Q   \n",
       "4           4  Mie Gacoan Tangsel - Ciater Raya   Adelita Adella   \n",
       "5           5  Mie Gacoan Tangsel - Ciater Raya       Sonia Sari   \n",
       "6           6  Mie Gacoan Tangsel - Ciater Raya                и   \n",
       "\n",
       "                                              review  rating  \n",
       "0  Oke jadi gini, ini tuh Gacoannya luas banget y...       5  \n",
       "1  Pas pertama kali makan dine in, biasanya selal...       5  \n",
       "2  Jauh2 kesini karna gacoan deket rumah kurengg,...       3  \n",
       "3  Harganya beda-beda kemaren makan gacoan di dae...       4  \n",
       "4  Pertama kali cobain mie gacoan, beli jam 12 ma...       4  \n",
       "5  First time bgt makan di gacoan yang cabang Cia...       1  \n",
       "6  untuk makanannya oke sih standar gacoan, tp pe...       3  "
      ]
     },
     "execution_count": 3,
     "metadata": {},
     "output_type": "execute_result"
    }
   ],
   "source": [
    "df.head(7)"
   ]
  },
  {
   "cell_type": "code",
   "execution_count": 4,
   "id": "9dcc26a9",
   "metadata": {},
   "outputs": [],
   "source": [
    "# hanya menggunakan kolom review dan rating\n",
    "df = df [[\"review\", \"rating\"]]"
   ]
  },
  {
   "cell_type": "code",
   "execution_count": 5,
   "id": "eda4aa36",
   "metadata": {},
   "outputs": [
    {
     "name": "stdout",
     "output_type": "stream",
     "text": [
      "<class 'pandas.core.frame.DataFrame'>\n",
      "RangeIndex: 500 entries, 0 to 499\n",
      "Data columns (total 2 columns):\n",
      " #   Column  Non-Null Count  Dtype \n",
      "---  ------  --------------  ----- \n",
      " 0   review  500 non-null    object\n",
      " 1   rating  500 non-null    int64 \n",
      "dtypes: int64(1), object(1)\n",
      "memory usage: 7.9+ KB\n"
     ]
    }
   ],
   "source": [
    "df.info()"
   ]
  },
  {
   "cell_type": "code",
   "execution_count": 6,
   "id": "25fb74a2",
   "metadata": {},
   "outputs": [],
   "source": [
    "df['review'] = df['review'].astype(str).str.lower()\n",
    "df['review'] = df['review'].replace('false', pd.NA)\n",
    "df = df.dropna(subset=['review'])\n",
    "df = df[df['review'] != 'false']"
   ]
  },
  {
   "cell_type": "code",
   "execution_count": 7,
   "id": "4fd092a5",
   "metadata": {},
   "outputs": [],
   "source": [
    "df = df.drop_duplicates(subset = [\"review\"])"
   ]
  },
  {
   "cell_type": "code",
   "execution_count": 8,
   "id": "effcd6ee",
   "metadata": {},
   "outputs": [],
   "source": [
    "def clean_rmaps_text(text):\n",
    "    text = re.sub(r'@[A-Za-z0-9_]+', ' ', text)  # Remove mentions (@username)\n",
    "    text = re.sub(r'#\\w+', ' ', text)            # Remove hashtags\n",
    "    text = re.sub(r'RT[\\s]+', ' ', text)         # Remove RT (retweets)\n",
    "    text = re.sub(r'https?://\\S+', ' ', text)    # Remove URLs\n",
    "    \n",
    "    text = re.sub(r'[^A-Za-z0-9\\s]', ' ', text)  # Remove special characters except letters/numbers\n",
    "    text = re.sub(r'\\s+', ' ', text).strip()     # Remove extra whitespace\n",
    "    \n",
    "    return text\n",
    "\n",
    "df['review'] = df['review'].apply(clean_rmaps_text)"
   ]
  },
  {
   "cell_type": "markdown",
   "id": "f95a149f",
   "metadata": {},
   "source": [
    "# Prepocessing"
   ]
  },
  {
   "cell_type": "markdown",
   "id": "65da4f11",
   "metadata": {},
   "source": [
    "**NORMALISASI**"
   ]
  },
  {
   "cell_type": "code",
   "execution_count": 9,
   "id": "a8304533",
   "metadata": {},
   "outputs": [
    {
     "data": {
      "text/html": [
       "<div>\n",
       "<style scoped>\n",
       "    .dataframe tbody tr th:only-of-type {\n",
       "        vertical-align: middle;\n",
       "    }\n",
       "\n",
       "    .dataframe tbody tr th {\n",
       "        vertical-align: top;\n",
       "    }\n",
       "\n",
       "    .dataframe thead th {\n",
       "        text-align: right;\n",
       "    }\n",
       "</style>\n",
       "<table border=\"1\" class=\"dataframe\">\n",
       "  <thead>\n",
       "    <tr style=\"text-align: right;\">\n",
       "      <th></th>\n",
       "      <th>review</th>\n",
       "      <th>rating</th>\n",
       "    </tr>\n",
       "  </thead>\n",
       "  <tbody>\n",
       "    <tr>\n",
       "      <th>0</th>\n",
       "      <td>oke jadi gini ini tuh gacoannya luas banget ya...</td>\n",
       "      <td>5</td>\n",
       "    </tr>\n",
       "    <tr>\n",
       "      <th>1</th>\n",
       "      <td>pas pertama kali makan dine in biasanya selalu...</td>\n",
       "      <td>5</td>\n",
       "    </tr>\n",
       "    <tr>\n",
       "      <th>2</th>\n",
       "      <td>jauh2 kesini karna gacoan deket rumah kurengg ...</td>\n",
       "      <td>3</td>\n",
       "    </tr>\n",
       "    <tr>\n",
       "      <th>3</th>\n",
       "      <td>harganya beda beda kemaren makan gacoan di dae...</td>\n",
       "      <td>4</td>\n",
       "    </tr>\n",
       "    <tr>\n",
       "      <th>4</th>\n",
       "      <td>pertama kali cobain mie gacoan beli jam 12 mal...</td>\n",
       "      <td>4</td>\n",
       "    </tr>\n",
       "    <tr>\n",
       "      <th>...</th>\n",
       "      <td>...</td>\n",
       "      <td>...</td>\n",
       "    </tr>\n",
       "    <tr>\n",
       "      <th>495</th>\n",
       "      <td>ngojek antriannya sejam</td>\n",
       "      <td>1</td>\n",
       "    </tr>\n",
       "    <tr>\n",
       "      <th>496</th>\n",
       "      <td>tempatnya nyaman pelayanannya juga okee</td>\n",
       "      <td>5</td>\n",
       "    </tr>\n",
       "    <tr>\n",
       "      <th>497</th>\n",
       "      <td>oke makan disini makanan sampe snack nya masih...</td>\n",
       "      <td>5</td>\n",
       "    </tr>\n",
       "    <tr>\n",
       "      <th>498</th>\n",
       "      <td>tempatnya enak nyaman buat ngobrol dan makan s...</td>\n",
       "      <td>5</td>\n",
       "    </tr>\n",
       "    <tr>\n",
       "      <th>499</th>\n",
       "      <td>mie nya enak dn tmpt nya nyaman</td>\n",
       "      <td>5</td>\n",
       "    </tr>\n",
       "  </tbody>\n",
       "</table>\n",
       "<p>498 rows × 2 columns</p>\n",
       "</div>"
      ],
      "text/plain": [
       "                                                review  rating\n",
       "0    oke jadi gini ini tuh gacoannya luas banget ya...       5\n",
       "1    pas pertama kali makan dine in biasanya selalu...       5\n",
       "2    jauh2 kesini karna gacoan deket rumah kurengg ...       3\n",
       "3    harganya beda beda kemaren makan gacoan di dae...       4\n",
       "4    pertama kali cobain mie gacoan beli jam 12 mal...       4\n",
       "..                                                 ...     ...\n",
       "495                            ngojek antriannya sejam       1\n",
       "496            tempatnya nyaman pelayanannya juga okee       5\n",
       "497  oke makan disini makanan sampe snack nya masih...       5\n",
       "498  tempatnya enak nyaman buat ngobrol dan makan s...       5\n",
       "499                    mie nya enak dn tmpt nya nyaman       5\n",
       "\n",
       "[498 rows x 2 columns]"
      ]
     },
     "execution_count": 9,
     "metadata": {},
     "output_type": "execute_result"
    }
   ],
   "source": [
    "# Normalisasi\n",
    "norm = {\n",
    "    ' bm ': ' bcnn ',\n",
    "    ' yg ': ' yang ',\n",
    "    ' thn ': ' tahun ',\n",
    "    ' uk ': ' ',\n",
    "    ' bpk ': ' bapak ',\n",
    "    ' lg ': ' lagi ',\n",
    "    ' kyk ': ' kayak ',\n",
    "    ' mkan ': ' makan ',\n",
    "    ' bljr ': ' belajar ',\n",
    "    ' org ': ' orang ',\n",
    "    ' one ': ' satu ',\n",
    "    ' dg ': ' dengan ',\n",
    "    ' lail ': ' lupa ',\n",
    "    ' miktr2 ': ' miktr ',\n",
    "    ' siaapp ': ' slap ',\n",
    "    ' okaay ': ' oke ',\n",
    "    ' udh ': ' sudah '\n",
    "}\n",
    "\n",
    "def normalisasi(str_text):\n",
    "    for i in norm:\n",
    "        str_text = str_text.replace(i, norm[i])\n",
    "    return str_text\n",
    "\n",
    "df['review'] = df['review'].apply(lambda x: normalisasi(x))\n",
    "df"
   ]
  },
  {
   "cell_type": "markdown",
   "id": "9e08a23f",
   "metadata": {},
   "source": [
    "**Stopwords**"
   ]
  },
  {
   "cell_type": "code",
   "execution_count": 10,
   "id": "71ba52e6",
   "metadata": {},
   "outputs": [
    {
     "data": {
      "text/html": [
       "<div>\n",
       "<style scoped>\n",
       "    .dataframe tbody tr th:only-of-type {\n",
       "        vertical-align: middle;\n",
       "    }\n",
       "\n",
       "    .dataframe tbody tr th {\n",
       "        vertical-align: top;\n",
       "    }\n",
       "\n",
       "    .dataframe thead th {\n",
       "        text-align: right;\n",
       "    }\n",
       "</style>\n",
       "<table border=\"1\" class=\"dataframe\">\n",
       "  <thead>\n",
       "    <tr style=\"text-align: right;\">\n",
       "      <th></th>\n",
       "      <th>review</th>\n",
       "      <th>rating</th>\n",
       "    </tr>\n",
       "  </thead>\n",
       "  <tbody>\n",
       "    <tr>\n",
       "      <th>0</th>\n",
       "      <td>oke jadi gini tuh gacoannya luas banget tempat...</td>\n",
       "      <td>5</td>\n",
       "    </tr>\n",
       "    <tr>\n",
       "      <th>1</th>\n",
       "      <td>pas pertama kali makan dine in biasanya selalu...</td>\n",
       "      <td>5</td>\n",
       "    </tr>\n",
       "    <tr>\n",
       "      <th>2</th>\n",
       "      <td>jauh2 kesini karna gacoan deket rumah kurengg ...</td>\n",
       "      <td>3</td>\n",
       "    </tr>\n",
       "    <tr>\n",
       "      <th>3</th>\n",
       "      <td>harganya beda beda kemaren makan gacoan daerah...</td>\n",
       "      <td>4</td>\n",
       "    </tr>\n",
       "    <tr>\n",
       "      <th>4</th>\n",
       "      <td>pertama kali cobain mie gacoan beli jam 12 mal...</td>\n",
       "      <td>4</td>\n",
       "    </tr>\n",
       "  </tbody>\n",
       "</table>\n",
       "</div>"
      ],
      "text/plain": [
       "                                              review  rating\n",
       "0  oke jadi gini tuh gacoannya luas banget tempat...       5\n",
       "1  pas pertama kali makan dine in biasanya selalu...       5\n",
       "2  jauh2 kesini karna gacoan deket rumah kurengg ...       3\n",
       "3  harganya beda beda kemaren makan gacoan daerah...       4\n",
       "4  pertama kali cobain mie gacoan beli jam 12 mal...       4"
      ]
     },
     "execution_count": 10,
     "metadata": {},
     "output_type": "execute_result"
    }
   ],
   "source": [
    "# Stopwords\n",
    "from Sastrawi.StopWordRemover.StopWordRemoverFactory import StopWordRemoverFactory, ArrayDictionary\n",
    "\n",
    "# Initialize stopword remover\n",
    "factory = StopWordRemoverFactory()\n",
    "stop_words = factory.get_stop_words()\n",
    "more_stop_words = []  # Add custom stopwords here if needed\n",
    "stop_words.extend(more_stop_words)\n",
    "\n",
    "# Create stopword remover\n",
    "stopword_remover = factory.create_stop_word_remover()\n",
    "\n",
    "def remove_stopwords(text):\n",
    "    return stopword_remover.remove(text)\n",
    "\n",
    "# Apply to dataframe\n",
    "df['review'] = df['review'].apply(remove_stopwords)\n",
    "df.head()"
   ]
  },
  {
   "cell_type": "markdown",
   "id": "7addb822",
   "metadata": {},
   "source": [
    "**Tokenize**"
   ]
  },
  {
   "cell_type": "code",
   "execution_count": 11,
   "id": "0078b471",
   "metadata": {},
   "outputs": [
    {
     "data": {
      "text/plain": [
       "0    [oke, jadi, gini, tuh, gacoannya, luas, banget...\n",
       "1    [pas, pertama, kali, makan, dine, in, biasanya...\n",
       "2    [jauh2, kesini, karna, gacoan, deket, rumah, k...\n",
       "3    [harganya, beda, beda, kemaren, makan, gacoan,...\n",
       "4    [pertama, kali, cobain, mie, gacoan, beli, jam...\n",
       "Name: review, dtype: object"
      ]
     },
     "execution_count": 11,
     "metadata": {},
     "output_type": "execute_result"
    }
   ],
   "source": [
    "tokenized = df['review'].apply(lambda x: x.split())\n",
    "tokenized.head()"
   ]
  },
  {
   "cell_type": "markdown",
   "id": "45e78c18",
   "metadata": {},
   "source": [
    "**Stemming**"
   ]
  },
  {
   "cell_type": "code",
   "execution_count": 12,
   "id": "8208283f",
   "metadata": {},
   "outputs": [],
   "source": [
    "from Sastrawi.Stemmer.StemmerFactory import StemmerFactory\n",
    "import pandas as pd\n",
    "\n",
    "stemmer = StemmerFactory().create_stemmer()\n",
    "\n",
    "def stem_tokenized(token_list):\n",
    "    return [stemmer.stem(word) for word in token_list]\n",
    "\n",
    "tokenized = tokenized.apply(stem_tokenized)\n",
    "tokenized_str = tokenized.apply(lambda x: ' '.join(x))\n",
    "tokenized_str.to_csv('hasilStemming.csv', index=False)"
   ]
  },
  {
   "cell_type": "markdown",
   "id": "7e69e870",
   "metadata": {},
   "source": [
    "# Labeling"
   ]
  },
  {
   "cell_type": "code",
   "execution_count": 13,
   "id": "93cce31c",
   "metadata": {},
   "outputs": [],
   "source": [
    "# Gabungkan kolom 'rating' dengan hasil stemming\n",
    "hasil_stemming = pd.DataFrame({\n",
    "    'review': tokenized_str,\n",
    "    'rating': df['rating']\n",
    "})\n",
    "\n",
    "# Simpan ke CSV\n",
    "hasil_stemming.to_csv('hasilStemming.csv', index=False)"
   ]
  },
  {
   "cell_type": "code",
   "execution_count": 14,
   "id": "dcedcf7c",
   "metadata": {},
   "outputs": [
    {
     "data": {
      "text/html": [
       "<div>\n",
       "<style scoped>\n",
       "    .dataframe tbody tr th:only-of-type {\n",
       "        vertical-align: middle;\n",
       "    }\n",
       "\n",
       "    .dataframe tbody tr th {\n",
       "        vertical-align: top;\n",
       "    }\n",
       "\n",
       "    .dataframe thead th {\n",
       "        text-align: right;\n",
       "    }\n",
       "</style>\n",
       "<table border=\"1\" class=\"dataframe\">\n",
       "  <thead>\n",
       "    <tr style=\"text-align: right;\">\n",
       "      <th></th>\n",
       "      <th>review</th>\n",
       "      <th>rating</th>\n",
       "    </tr>\n",
       "  </thead>\n",
       "  <tbody>\n",
       "    <tr>\n",
       "      <th>0</th>\n",
       "      <td>oke jadi gini tuh gacoannya luas banget tempat...</td>\n",
       "      <td>5</td>\n",
       "    </tr>\n",
       "    <tr>\n",
       "      <th>1</th>\n",
       "      <td>pas pertama kali makan dine in biasanya selalu...</td>\n",
       "      <td>5</td>\n",
       "    </tr>\n",
       "    <tr>\n",
       "      <th>2</th>\n",
       "      <td>jauh2 kesini karna gacoan deket rumah kurengg ...</td>\n",
       "      <td>3</td>\n",
       "    </tr>\n",
       "    <tr>\n",
       "      <th>3</th>\n",
       "      <td>harganya beda beda kemaren makan gacoan daerah...</td>\n",
       "      <td>4</td>\n",
       "    </tr>\n",
       "    <tr>\n",
       "      <th>4</th>\n",
       "      <td>pertama kali cobain mie gacoan beli jam 12 mal...</td>\n",
       "      <td>4</td>\n",
       "    </tr>\n",
       "    <tr>\n",
       "      <th>5</th>\n",
       "      <td>first time bgt makan gacoan cabang ciater raya...</td>\n",
       "      <td>1</td>\n",
       "    </tr>\n",
       "    <tr>\n",
       "      <th>6</th>\n",
       "      <td>makanannya oke sih standar gacoan tp pelayanan...</td>\n",
       "      <td>3</td>\n",
       "    </tr>\n",
       "    <tr>\n",
       "      <th>7</th>\n",
       "      <td>klo mau arah bsd macet parah mie gacoan saya j...</td>\n",
       "      <td>5</td>\n",
       "    </tr>\n",
       "    <tr>\n",
       "      <th>8</th>\n",
       "      <td>biasanya makan ditempat nyobain pesan gofood m...</td>\n",
       "      <td>1</td>\n",
       "    </tr>\n",
       "    <tr>\n",
       "      <th>9</th>\n",
       "      <td>langganan deket rumah baik on line makan tempa...</td>\n",
       "      <td>5</td>\n",
       "    </tr>\n",
       "  </tbody>\n",
       "</table>\n",
       "</div>"
      ],
      "text/plain": [
       "                                              review  rating\n",
       "0  oke jadi gini tuh gacoannya luas banget tempat...       5\n",
       "1  pas pertama kali makan dine in biasanya selalu...       5\n",
       "2  jauh2 kesini karna gacoan deket rumah kurengg ...       3\n",
       "3  harganya beda beda kemaren makan gacoan daerah...       4\n",
       "4  pertama kali cobain mie gacoan beli jam 12 mal...       4\n",
       "5  first time bgt makan gacoan cabang ciater raya...       1\n",
       "6  makanannya oke sih standar gacoan tp pelayanan...       3\n",
       "7  klo mau arah bsd macet parah mie gacoan saya j...       5\n",
       "8  biasanya makan ditempat nyobain pesan gofood m...       1\n",
       "9  langganan deket rumah baik on line makan tempa...       5"
      ]
     },
     "execution_count": 14,
     "metadata": {},
     "output_type": "execute_result"
    }
   ],
   "source": [
    "df.head(10)"
   ]
  },
  {
   "cell_type": "markdown",
   "id": "5f194ba1",
   "metadata": {},
   "source": [
    "# Visualisasi"
   ]
  },
  {
   "cell_type": "code",
   "execution_count": 16,
   "id": "37bd5af7",
   "metadata": {},
   "outputs": [
    {
     "data": {
      "image/png": "[encoded data removed]",
      "text/plain": [
       "<Figure size 800x800 with 1 Axes>"
      ]
     },
     "metadata": {},
     "output_type": "display_data"
    }
   ],
   "source": [
    "import pandas as pd\n",
    "import matplotlib.pyplot as plt\n",
    "\n",
    "# Create sentiment column based on ratings\n",
    "df['sentimen'] = df['rating'].apply(lambda x: 'positif' if x >= 4 else 'netral' if x == 3 else 'negatif')\n",
    "\n",
    "# Now you can run your visualization code\n",
    "sentimen_counts = df['sentimen'].value_counts()\n",
    "sentimen_percent = df['sentimen'].value_counts(normalize=True) * 100\n",
    "\n",
    "colors = ['#4CAF50', '#9E9E9E', '#F44336']  # hijau, abu-abu, merah\n",
    "\n",
    "plt.figure(figsize=(8, 8))\n",
    "patches, texts, autotexts = plt.pie(\n",
    "    sentimen_counts,\n",
    "    labels=sentimen_counts.index,\n",
    "    colors=colors,\n",
    "    autopct='%1.1f%%',\n",
    "    startangle=90,\n",
    "    textprops={'fontsize': 12}\n",
    ")\n",
    "\n",
    "for autotext in autotexts:\n",
    "    autotext.set_fontsize(12)\n",
    "    autotext.set_color('white')\n",
    "\n",
    "plt.legend(\n",
    "    title=\"Kategori Sentimen\",\n",
    "    loc=\"upper right\",\n",
    "    bbox_to_anchor=(1.3, 1),\n",
    "    labels=[f\"{label} ({count})\" for label, count in zip(sentimen_counts.index, sentimen_counts)]\n",
    ")\n",
    "\n",
    "plt.title('Distribusi Sentimen Review Mie Gacoan', fontsize=14, pad=20)\n",
    "plt.axis('equal')\n",
    "plt.show()"
   ]
  },
  {
   "cell_type": "markdown",
   "id": "cb2f7a60",
   "metadata": {},
   "source": [
    "# Model"
   ]
  },
  {
   "cell_type": "code",
   "execution_count": 17,
   "id": "49b5043b",
   "metadata": {},
   "outputs": [],
   "source": [
    "import pandas as pd\n",
    "from sklearn.model_selection import train_test_split\n",
    "from sklearn.feature_extraction.text import TfidfVectorizer\n",
    "from sklearn.ensemble import RandomForestClassifier\n",
    "from sklearn.metrics import confusion_matrix, classification_report, accuracy_score\n",
    "import seaborn as sns\n",
    "import matplotlib.pyplot as plt\n",
    "import numpy as np\n"
   ]
  },
  {
   "cell_type": "code",
   "execution_count": 18,
   "id": "81ec075c",
   "metadata": {},
   "outputs": [],
   "source": [
    "# 1. Prepare Data\n",
    "X = df['review']  # Text features\n",
    "y = df['sentimen']  # Target variable"
   ]
  },
  {
   "cell_type": "code",
   "execution_count": 19,
   "id": "098e1b73",
   "metadata": {},
   "outputs": [],
   "source": [
    "# 2. Split data (80% train, 20% test)\n",
    "X_train, X_test, y_train, y_test = train_test_split(\n",
    "    X, y, \n",
    "    test_size=0.2, \n",
    "    random_state=42,\n",
    "    stratify=y  # Maintain class distribution\n",
    ")"
   ]
  },
  {
   "cell_type": "code",
   "execution_count": 20,
   "id": "092d271f",
   "metadata": {},
   "outputs": [],
   "source": [
    "# 3. Feature Extraction with TF-IDF\n",
    "tfidf = TfidfVectorizer(\n",
    "    max_features=5000,\n",
    "    ngram_range=(1, 2),  # Use both single words and 2-word combinations\n",
    "    stop_words='english'  # Remove English stopwords (optional)\n",
    ")\n",
    "\n",
    "X_train_tfidf = tfidf.fit_transform(X_train)\n",
    "X_test_tfidf = tfidf.transform(X_test)"
   ]
  },
  {
   "cell_type": "code",
   "execution_count": 21,
   "id": "535b8482",
   "metadata": {},
   "outputs": [
    {
     "data": {
      "text/html": [
       "<style>#sk-container-id-1 {color: black;}#sk-container-id-1 pre{padding: 0;}#sk-container-id-1 div.sk-toggleable {background-color: white;}#sk-container-id-1 label.sk-toggleable__label {cursor: pointer;display: block;width: 100%;margin-bottom: 0;padding: 0.3em;box-sizing: border-box;text-align: center;}#sk-container-id-1 label.sk-toggleable__label-arrow:before {content: \"▸\";float: left;margin-right: 0.25em;color: #696969;}#sk-container-id-1 label.sk-toggleable__label-arrow:hover:before {color: black;}#sk-container-id-1 div.sk-estimator:hover label.sk-toggleable__label-arrow:before {color: black;}#sk-container-id-1 div.sk-toggleable__content {max-height: 0;max-width: 0;overflow: hidden;text-align: left;background-color: #f0f8ff;}#sk-container-id-1 div.sk-toggleable__content pre {margin: 0.2em;color: black;border-radius: 0.25em;background-color: #f0f8ff;}#sk-container-id-1 input.sk-toggleable__control:checked~div.sk-toggleable__content {max-height: 200px;max-width: 100%;overflow: auto;}#sk-container-id-1 input.sk-toggleable__control:checked~label.sk-toggleable__label-arrow:before {content: \"▾\";}#sk-container-id-1 div.sk-estimator input.sk-toggleable__control:checked~label.sk-toggleable__label {background-color: #d4ebff;}#sk-container-id-1 div.sk-label input.sk-toggleable__control:checked~label.sk-toggleable__label {background-color: #d4ebff;}#sk-container-id-1 input.sk-hidden--visually {border: 0;clip: rect(1px 1px 1px 1px);clip: rect(1px, 1px, 1px, 1px);height: 1px;margin: -1px;overflow: hidden;padding: 0;position: absolute;width: 1px;}#sk-container-id-1 div.sk-estimator {font-family: monospace;background-color: #f0f8ff;border: 1px dotted black;border-radius: 0.25em;box-sizing: border-box;margin-bottom: 0.5em;}#sk-container-id-1 div.sk-estimator:hover {background-color: #d4ebff;}#sk-container-id-1 div.sk-parallel-item::after {content: \"\";width: 100%;border-bottom: 1px solid gray;flex-grow: 1;}#sk-container-id-1 div.sk-label:hover label.sk-toggleable__label {background-color: #d4ebff;}#sk-container-id-1 div.sk-serial::before {content: \"\";position: absolute;border-left: 1px solid gray;box-sizing: border-box;top: 0;bottom: 0;left: 50%;z-index: 0;}#sk-container-id-1 div.sk-serial {display: flex;flex-direction: column;align-items: center;background-color: white;padding-right: 0.2em;padding-left: 0.2em;position: relative;}#sk-container-id-1 div.sk-item {position: relative;z-index: 1;}#sk-container-id-1 div.sk-parallel {display: flex;align-items: stretch;justify-content: center;background-color: white;position: relative;}#sk-container-id-1 div.sk-item::before, #sk-container-id-1 div.sk-parallel-item::before {content: \"\";position: absolute;border-left: 1px solid gray;box-sizing: border-box;top: 0;bottom: 0;left: 50%;z-index: -1;}#sk-container-id-1 div.sk-parallel-item {display: flex;flex-direction: column;z-index: 1;position: relative;background-color: white;}#sk-container-id-1 div.sk-parallel-item:first-child::after {align-self: flex-end;width: 50%;}#sk-container-id-1 div.sk-parallel-item:last-child::after {align-self: flex-start;width: 50%;}#sk-container-id-1 div.sk-parallel-item:only-child::after {width: 0;}#sk-container-id-1 div.sk-dashed-wrapped {border: 1px dashed gray;margin: 0 0.4em 0.5em 0.4em;box-sizing: border-box;padding-bottom: 0.4em;background-color: white;}#sk-container-id-1 div.sk-label label {font-family: monospace;font-weight: bold;display: inline-block;line-height: 1.2em;}#sk-container-id-1 div.sk-label-container {text-align: center;}#sk-container-id-1 div.sk-container {/* jupyter's `normalize.less` sets `[hidden] { display: none; }` but bootstrap.min.css set `[hidden] { display: none !important; }` so we also need the `!important` here to be able to override the default hidden behavior on the sphinx rendered scikit-learn.org. See: https://github.com/scikit-learn/scikit-learn/issues/21755 */display: inline-block !important;position: relative;}#sk-container-id-1 div.sk-text-repr-fallback {display: none;}</style><div id=\"sk-container-id-1\" class=\"sk-top-container\"><div class=\"sk-text-repr-fallback\"><pre>RandomForestClassifier(class_weight=&#x27;balanced&#x27;, max_depth=25,\n",
       "                       min_samples_split=5, n_estimators=150, n_jobs=-1,\n",
       "                       random_state=42)</pre><b>In a Jupyter environment, please rerun this cell to show the HTML representation or trust the notebook. <br />On GitHub, the HTML representation is unable to render, please try loading this page with nbviewer.org.</b></div><div class=\"sk-container\" hidden><div class=\"sk-item\"><div class=\"sk-estimator sk-toggleable\"><input class=\"sk-toggleable__control sk-hidden--visually\" id=\"sk-estimator-id-1\" type=\"checkbox\" checked><label for=\"sk-estimator-id-1\" class=\"sk-toggleable__label sk-toggleable__label-arrow\">RandomForestClassifier</label><div class=\"sk-toggleable__content\"><pre>RandomForestClassifier(class_weight=&#x27;balanced&#x27;, max_depth=25,\n",
       "                       min_samples_split=5, n_estimators=150, n_jobs=-1,\n",
       "                       random_state=42)</pre></div></div></div></div></div>"
      ],
      "text/plain": [
       "RandomForestClassifier(class_weight='balanced', max_depth=25,\n",
       "                       min_samples_split=5, n_estimators=150, n_jobs=-1,\n",
       "                       random_state=42)"
      ]
     },
     "execution_count": 21,
     "metadata": {},
     "output_type": "execute_result"
    }
   ],
   "source": [
    "# 4. Build and Train Random Forest Model\n",
    "rf_model = RandomForestClassifier(\n",
    "    n_estimators=150,  # Number of trees\n",
    "    max_depth=25,\n",
    "    min_samples_split=5,\n",
    "    min_samples_leaf=1,\n",
    "    random_state=42,\n",
    "    class_weight='balanced',  # Handle class imbalance\n",
    "    n_jobs=-1  # Use all CPU cores\n",
    ")\n",
    "\n",
    "rf_model.fit(X_train_tfidf, y_train)"
   ]
  },
  {
   "cell_type": "code",
   "execution_count": 22,
   "id": "4d6d17ca",
   "metadata": {},
   "outputs": [],
   "source": [
    "# 5. Make Predictions\n",
    "y_pred = rf_model.predict(X_test_tfidf)"
   ]
  },
  {
   "cell_type": "code",
   "execution_count": 25,
   "id": "f393e150",
   "metadata": {},
   "outputs": [
    {
     "name": "stdout",
     "output_type": "stream",
     "text": [
      "Hasil Evaluasi Model (Numerik):\n",
      "Accuracy: 0.8000\n",
      "Precision: 0.7546\n",
      "Recall: 0.8000\n",
      "F1-Score: 0.7765\n"
     ]
    },
    {
     "name": "stderr",
     "output_type": "stream",
     "text": [
      "D:\\Annaconda\\Lib\\site-packages\\sklearn\\metrics\\_classification.py:1469: UndefinedMetricWarning: Precision is ill-defined and being set to 0.0 in labels with no predicted samples. Use `zero_division` parameter to control this behavior.\n",
      "  _warn_prf(average, modifier, msg_start, len(result))\n"
     ]
    }
   ],
   "source": [
    "from sklearn.metrics import precision_score, recall_score, f1_score\n",
    "\n",
    "accuracy = accuracy_score(y_test, y_pred)\n",
    "precision = precision_score(y_test, y_pred, average='weighted')\n",
    "recall = recall_score(y_test, y_pred, average='weighted')\n",
    "f1 = f1_score(y_test, y_pred, average='weighted')\n",
    "\n",
    "eval_results = {\n",
    "    \"Accuracy\": f\"{accuracy:.4f}\",\n",
    "    \"Precision\": f\"{precision:.4f}\",\n",
    "    \"Recall\": f\"{recall:.4f}\",\n",
    "    \"F1-Score\": f\"{f1:.4f}\"\n",
    "}\n",
    "\n",
    "print(\"Hasil Evaluasi Model (Numerik):\")\n",
    "for metric, value in eval_results.items():\n",
    "    print(f\"{metric}: {value}\")"
   ]
  },
  {
   "cell_type": "markdown",
   "id": "a3a6a891",
   "metadata": {},
   "source": [
    "# Terimakasih"
   ]
  }
 ],
 "metadata": {
  "kernelspec": {
   "display_name": "Python 3 (ipykernel)",
   "language": "python",
   "name": "python3"
  },
  "language_info": {
   "codemirror_mode": {
    "name": "ipython",
    "version": 3
   },
   "file_extension": ".py",
   "mimetype": "text/x-python",
   "name": "python",
   "nbconvert_exporter": "python",
   "pygments_lexer": "ipython3",
   "version": "3.11.4"
  }
 },
 "nbformat": 4,
 "nbformat_minor": 5
}
